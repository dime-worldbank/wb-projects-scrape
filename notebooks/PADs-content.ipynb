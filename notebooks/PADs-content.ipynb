{
 "cells": [
  {
   "cell_type": "code",
   "execution_count": 7,
   "id": "d973e47f",
   "metadata": {},
   "outputs": [],
   "source": [
    "import pandas as pd\n",
    "import os\n",
    "import sys"
   ]
  },
  {
   "cell_type": "code",
   "execution_count": 3,
   "id": "c2dd4c59",
   "metadata": {},
   "outputs": [],
   "source": [
    "sys.path.insert(0,'../code')\n",
    "import objects"
   ]
  },
  {
   "cell_type": "code",
   "execution_count": 5,
   "id": "4db64ca7",
   "metadata": {},
   "outputs": [],
   "source": [
    "df = pd.DataFrame(columns=['doi', 'pad_text'])"
   ]
  },
  {
   "cell_type": "code",
   "execution_count": null,
   "id": "1f1552b3",
   "metadata": {},
   "outputs": [],
   "source": [
    "for file in oslistdir()"
   ]
  }
 ],
 "metadata": {
  "kernelspec": {
   "display_name": "Python 3 (ipykernel)",
   "language": "python",
   "name": "python3"
  },
  "language_info": {
   "codemirror_mode": {
    "name": "ipython",
    "version": 3
   },
   "file_extension": ".py",
   "mimetype": "text/x-python",
   "name": "python",
   "nbconvert_exporter": "python",
   "pygments_lexer": "ipython3",
   "version": "3.9.7"
  }
 },
 "nbformat": 4,
 "nbformat_minor": 5
}
